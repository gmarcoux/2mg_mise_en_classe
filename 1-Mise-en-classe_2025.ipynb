{
  "cells": [
    {
      "cell_type": "markdown",
      "id": "0305f916-d678-4298-9b7d-6c684d39a3f4",
      "metadata": {},
      "source": [
        "# Mise en classe\n",
        "\n",
        "> **Objectifs**\n",
        ">\n",
        "> -   Mettre en classe des données\n",
        "\n",
        "\n",
        "\n",
        "## Lire des données\n",
        "\n",
        "Comme dans les cours précédents, nous allons travailler sur les cantons suisses [1].\n",
        "\n",
        "Nous allons commencer par charger ces données depuis un fichier CSV.\n",
        "\n",
        "Pour rappel, la fonction `read_csv` du module `pandas` permet de lire un fichier CSV\n",
        "et de le stocker dans un tableau de données. \n",
        "\n",
        "Ce tableau contient de nombreuses données. Il est possible de n’afficher\n",
        "que les premières lignes avec la méthode `head`.\n",
        "\n",
        "Exécutez le code ci-dessous et prenez connaissance des données :\n",
        "\n",
        "[1] Source: [OFS - 2019-2020](https://www.bfs.admin.ch/bfs/fr/home/statistiques/statistique-regions/portraits-regionaux-chiffres-cles/cantons.assetdetail.15864478.html)"
      ]
    },
    {
      "cell_type": "code",
      "execution_count": null,
      "id": "cell-4",
      "metadata": {},
      "outputs": [],
      "source": [
        "import pandas as pd\n",
        "\n",
        "# Lire le fichier stats_cantons.csv et le charger dans 'cantons_data'\n",
        "cantons_data = pd.read_csv('stats_cantons.csv')\n",
        "\n",
        "# affiche les 5 1er cantons\n",
        "cantons_data.head()"
      ]
    },
    {
      "cell_type": "markdown",
      "id": "a5329aa6-e96d-417f-b592-3155734db7e3",
      "metadata": {},
      "source": [
        "## Manipuler des données\n",
        "\n",
        "Pour rappel, on peut également facilement utiliser des colonnes pour créer de nouvelles colonnes.\n",
        "\n",
        "Par exemple, on peut créer la colonne pour la densité de population au km2 `densite_pop` qui correspond au nombre d'habitants sur la superficie."
      ]
    },
    {
      "cell_type": "code",
      "execution_count": null,
      "id": "cell-6",
      "metadata": {},
      "outputs": [],
      "source": [
        "# création de la colonne contenant la densité\n",
        "# attention ! la popuplation est donnée en milliers d'habitants !\n",
        "cantons_data[\"densite_pop\"] = (cantons_data[\"habitants_k\"] *1000) / cantons_data[\"superficie_km2\"]\n",
        "\n",
        "# on n'affiche que les colonnes 'canton' et 'densite_pop'\n",
        "cantons_data[[\"canton\" ,\"densite_pop\"]].head(10)"
      ]
    },
    {
      "cell_type": "markdown",
      "id": "a042e3bc-dca0-46c6-9339-15bcb7a033ea",
      "metadata": {},
      "source": [
        "On l'a déjà vu, si on s’intéresse à un canton en particulier, on peut également filtrer les données pour ne garder que la lignes correspondant à ce canton.\n",
        "\n",
        "On peut également stocker le résultat du filtre dans une nouvelle variable !\n",
        "\n",
        "Par exemple, pour Neuchâtel, on peut créer un nouveau tableau `neuch_data` qui ne contient que les lignes où la colonne `canton` vaut `NE`."
      ]
    },
    {
      "cell_type": "code",
      "execution_count": null,
      "id": "cell-8",
      "metadata": {},
      "outputs": [],
      "source": [
        "# filtre sur une colonne\n",
        "neuch_data = cantons_data[cantons_data[\"canton\"] == \"NE\"]\n",
        "\n",
        "# on affiche les 1ers résultats\n",
        "neuch_data.head()"
      ]
    },
    {
      "cell_type": "markdown",
      "id": "7cc5e448-a974-4ce1-af32-4e38d90ad085",
      "metadata": {},
      "source": [
        "## Mettre en classe\n",
        "\n",
        "Le module pandas permet de facilement mettre en classe des données numériques :\n",
        "\n",
        "### amplitude fixe - cut()\n",
        "\n",
        "amplitude fixe = (val max - val min)\n",
        "\n",
        "La méthode `cut` permet de créer des classes – selon la méthode de l’amplitude fixe ou des seuils observés – à partir d’une\n",
        "variable numérique. \n",
        "\n",
        "L’argument `bins` (bins = bacs en anglais) peut soit être un chiffre qui indique le nombre de classes, soit une liste qui indique les bornes des\n",
        "classes. \n",
        "\n",
        "Le résultat devra être conservé dans une nouvelle colonne !\n",
        "\n"
      ]
    },
    {
      "cell_type": "code",
      "execution_count": null,
      "id": "cell-10",
      "metadata": {},
      "outputs": [],
      "source": [
        "# on crée une colonne contenant les 4 \"bacs\" \n",
        "cantons_data[\"densite_4_cats\"] = pd.cut(cantons_data[\"densite_pop\"], bins=4)\n",
        "\n",
        "# on affiche tout\n",
        "print(cantons_data[\"densite_4_cats\"].value_counts())\n",
        "print(cantons_data[[\"canton\" ,\"densite_pop\", \"densite_4_cats\"]])"
      ]
    },
    {
      "cell_type": "markdown",
      "id": "8c39d2ef",
      "metadata": {},
      "source": [
        "On peut aussi définir nous-même les seuils :"
      ]
    },
    {
      "cell_type": "code",
      "execution_count": null,
      "id": "cell-11",
      "metadata": {},
      "outputs": [],
      "source": [
        "# seuils définis manuellement \n",
        "cantons_data[\"densite_4_cats\"] = pd.cut(cantons_data[\"densite_pop\"], bins=[0,100,300,1000,5000,50000])\n",
        "\n",
        "# on affiche tout\n",
        "print(cantons_data[[\"canton\" ,\"densite_pop\", \"densite_4_cats\"]])"
      ]
    },
    {
      "cell_type": "markdown",
      "id": "9dea708a",
      "metadata": {},
      "source": [
        "### effectifs fixes - qcut()\n",
        "\n",
        "effectifs fixes = nb de val / nb de classe\n",
        "\n",
        "La méthode `qcut` permet de créer des classe – selon la méthode des effectifs fixes – à partir d’une variable numérique en précisant le\n",
        "nombre de classes. \n",
        "\n",
        "L’argument `q` permet de préciser le nombre de classes.\n"
      ]
    },
    {
      "cell_type": "code",
      "execution_count": null,
      "id": "cell-12",
      "metadata": {},
      "outputs": [],
      "source": [
        "# on découpe les données en 4 quartiles\n",
        "cantons_data[\"densite_q\"] = pd.qcut(cantons_data[\"densite_pop\"], 4)\n",
        "\n",
        "# on affiche tout\n",
        "print(cantons_data[[\"canton\" ,\"densite_pop\", \"densite_q\"]])"
      ]
    },
    {
      "cell_type": "markdown",
      "id": "b3b1850c",
      "metadata": {},
      "source": [
        "L’argument `labels` permet de préciser les étiquettes des classes :"
      ]
    },
    {
      "cell_type": "code",
      "execution_count": null,
      "id": "f912e124",
      "metadata": {},
      "outputs": [],
      "source": [
        "cantons_data[\"densite_4_cats\"] = pd.cut(cantons_data[\"densite_pop\"], bins=4, labels=[\"faible\", \"moyenne\", \"élevée\", \"très élevée\"])\n",
        "print(cantons_data[[\"canton\" ,\"densite_pop\", \"densite_4_cats\"]])"
      ]
    },
    {
      "cell_type": "code",
      "execution_count": null,
      "id": "54dfb932",
      "metadata": {},
      "outputs": [],
      "source": [
        "cantons_data[\"densite_q\"] = pd.qcut(cantons_data[\"densite_pop\"], 4, labels=[\"faible\", \"moyenne\", \"élevée\", \"très élevée\"])\n",
        "print(cantons_data[[\"canton\" ,\"densite_pop\", \"densite_q\"]])"
      ]
    },
    {
      "cell_type": "markdown",
      "id": "b74be0a4-1ba1-49a1-8638-4a6821c3fc72",
      "metadata": {},
      "source": [
        "> **Exercice 1**\n",
        ">\n",
        "> -   À partir du tableau `cantons_data`, créez une mise en classes à partir de la colonne suivante :\n",
        ">     -   tx_chomage \n",
        "> - Faites une mise en classe de chaque type (amplitude fixe et effectifs fixes) de 4 quantiles avec des étiquettes(faible, moyen, élevé, très élevé)\n",
        "> - Affichez le tableau final\n",
        "> - Quelle mise en classe est la plus pertinente ?\n"
      ]
    },
    {
      "cell_type": "code",
      "execution_count": 72,
      "id": "526db154",
      "metadata": {},
      "outputs": [],
      "source": []
    },
    {
      "cell_type": "markdown",
      "id": "66c647cb",
      "metadata": {},
      "source": [
        "> **Exercice 2**\n",
        ">\n",
        "> -   À partir du tableau `cantons_data`, créez une mise en classes à partir de la colonne suivante :\n",
        ">     -   PIB_hab \n",
        "> - Faites une mise en classe de chaque type (amplitude fixe et effectifs fixes) de 4 quantiles avec des étiquettes(faible, moyen, élevé, très élevé)\n",
        "> - Affichez le tableau final\n",
        "> - Quelle mise en classe est la plus pertinente ?"
      ]
    },
    {
      "cell_type": "code",
      "execution_count": null,
      "id": "f66baa5d",
      "metadata": {},
      "outputs": [],
      "source": []
    },
    {
      "cell_type": "markdown",
      "id": "a63330c4",
      "metadata": {},
      "source": [
        "> **Exercice 3**\n",
        ">\n",
        "> -   À partir du tableau `cantons_data`, créez la colonne suivante depuis les données existantes puis mettez là en classe :\n",
        ">     -   PIB \n",
        "> - Faites une mise en classe de chaque type (amplitude fixe et effectifs fixes) de 4 quantiles avec des étiquettes (faible, moyen, élevé, très élevé) \n",
        "> -   Affichez le tableau final\n",
        "> - Quelle mise en classe est la plus pertinente ?\n"
      ]
    },
    {
      "cell_type": "code",
      "execution_count": null,
      "id": "b197e249",
      "metadata": {},
      "outputs": [],
      "source": []
    },
    {
      "cell_type": "markdown",
      "id": "49881b74",
      "metadata": {},
      "source": [
        "> **Exercice 4**\n",
        ">\n",
        "> -   Jouez avec le code ci-dessous pour afficher les différentes classes créées en 1\n",
        "> -   À vous de trouver quoi modifier !"
      ]
    },
    {
      "cell_type": "code",
      "execution_count": null,
      "id": "553a6731",
      "metadata": {},
      "outputs": [],
      "source": [
        "# charge la bibliothèque permettant de faire des cartes\n",
        "import geopandas\n",
        "\n",
        "# on crée une colonne contenant les clés pour faire une jointure avec la carte\n",
        "cantons_data[\"CodeCH\"] = \"CH\" + cantons_data[\"canton\"]\n",
        "\n",
        "# chargement de la carte\n",
        "carte_suisse = geopandas.read_file(\"ch.shp\")\n",
        "\n",
        "# jointure carte / données\n",
        "carte_suisse_pop = carte_suisse.merge(\n",
        "    cantons_data, how=\"left\", left_on=\"id\", right_on=\"CodeCH\"\n",
        ")\n",
        "\n",
        "# affichage\n",
        "carte_suisse_pop.plot(\n",
        "    column=\"densite_pop\",\n",
        "    legend=True,\n",
        "    cmap=\"OrRd\",\n",
        "    missing_kwds={\"color\": \"grey\", \"label\": \"No Data\"}\n",
        ")"
      ]
    }
  ],
  "metadata": {
    "kernelspec": {
      "display_name": "Python 3",
      "language": "python",
      "name": "python3"
    },
    "language_info": {
      "codemirror_mode": {
        "name": "ipython",
        "version": 3
      },
      "file_extension": ".py",
      "mimetype": "text/x-python",
      "name": "python",
      "nbconvert_exporter": "python",
      "pygments_lexer": "ipython3",
      "version": "3.11.9"
    },
    "orig_nbformat": "4"
  },
  "nbformat": 4,
  "nbformat_minor": 5
}
