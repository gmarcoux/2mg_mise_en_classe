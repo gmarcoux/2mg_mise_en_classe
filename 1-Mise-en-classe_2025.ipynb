{
  "cells": [
    {
      "cell_type": "markdown",
      "id": "0305f916-d678-4298-9b7d-6c684d39a3f4",
      "metadata": {},
      "source": [
        "# Mise en classe\n",
        "\n",
        "> **Objectifs**\n",
        ">\n",
        "> -   Mettre en classe des données\n",
        "\n",
        "\n",
        "\n",
        "## Lire des données\n",
        "\n",
        "Comme dans les cours précédents, nous allons travailler sur les cantons suisses [1].\n",
        "\n",
        "Nous allons commencer par charger ces données depuis un fichier CSV.\n",
        "\n",
        "Pour rappel, la fonction `read_csv` du module `pandas` permet de lire un fichier CSV\n",
        "et de le stocker dans un tableau de données. \n",
        "\n",
        "Ce tableau contient de nombreuses données. Il est possible de n’afficher\n",
        "que les premières lignes avec la méthode `head`.\n",
        "\n",
        "Exécutez le code ci-dessous et prenez connaissance des données :\n",
        "\n",
        "[1] Source: [OFS - 2019-2020](https://www.bfs.admin.ch/bfs/fr/home/statistiques/statistique-regions/portraits-regionaux-chiffres-cles/cantons.assetdetail.15864478.html)"
      ]
    },
    {
      "cell_type": "code",
      "execution_count": 64,
      "id": "cell-4",
      "metadata": {},
      "outputs": [
        {
          "data": {
            "text/html": [
              "<div>\n",
              "<style scoped>\n",
              "    .dataframe tbody tr th:only-of-type {\n",
              "        vertical-align: middle;\n",
              "    }\n",
              "\n",
              "    .dataframe tbody tr th {\n",
              "        vertical-align: top;\n",
              "    }\n",
              "\n",
              "    .dataframe thead th {\n",
              "        text-align: right;\n",
              "    }\n",
              "</style>\n",
              "<table border=\"1\" class=\"dataframe\">\n",
              "  <thead>\n",
              "    <tr style=\"text-align: right;\">\n",
              "      <th></th>\n",
              "      <th>canton</th>\n",
              "      <th>habitants_k</th>\n",
              "      <th>tx_0_19</th>\n",
              "      <th>tx_20_64</th>\n",
              "      <th>tx_65</th>\n",
              "      <th>tx_pop_urbaine</th>\n",
              "      <th>tx_pop_etrangere</th>\n",
              "      <th>superficie_km2</th>\n",
              "      <th>tx_chomage</th>\n",
              "      <th>tx_activite</th>\n",
              "      <th>PIB_hab</th>\n",
              "      <th>tx_aide_sociale</th>\n",
              "      <th>tx_surf_agr_bio</th>\n",
              "      <th>surf_agricole_ha</th>\n",
              "    </tr>\n",
              "  </thead>\n",
              "  <tbody>\n",
              "    <tr>\n",
              "      <th>0</th>\n",
              "      <td>ZH</td>\n",
              "      <td>1539.3</td>\n",
              "      <td>19.8</td>\n",
              "      <td>63.2</td>\n",
              "      <td>17.0</td>\n",
              "      <td>99.3</td>\n",
              "      <td>27.1</td>\n",
              "      <td>1728.9</td>\n",
              "      <td>3.1</td>\n",
              "      <td>82.2</td>\n",
              "      <td>104820</td>\n",
              "      <td>3.1</td>\n",
              "      <td>14.6</td>\n",
              "      <td>22.3</td>\n",
              "    </tr>\n",
              "    <tr>\n",
              "      <th>1</th>\n",
              "      <td>BE</td>\n",
              "      <td>1039.5</td>\n",
              "      <td>19.0</td>\n",
              "      <td>59.9</td>\n",
              "      <td>21.1</td>\n",
              "      <td>74.7</td>\n",
              "      <td>16.6</td>\n",
              "      <td>5959.4</td>\n",
              "      <td>2.5</td>\n",
              "      <td>82.4</td>\n",
              "      <td>79115</td>\n",
              "      <td>4.0</td>\n",
              "      <td>13.4</td>\n",
              "      <td>18.7</td>\n",
              "    </tr>\n",
              "    <tr>\n",
              "      <th>2</th>\n",
              "      <td>LU</td>\n",
              "      <td>413.1</td>\n",
              "      <td>20.3</td>\n",
              "      <td>61.9</td>\n",
              "      <td>17.8</td>\n",
              "      <td>63.9</td>\n",
              "      <td>18.8</td>\n",
              "      <td>1493.3</td>\n",
              "      <td>2.2</td>\n",
              "      <td>82.9</td>\n",
              "      <td>69256</td>\n",
              "      <td>2.4</td>\n",
              "      <td>10.7</td>\n",
              "      <td>16.8</td>\n",
              "    </tr>\n",
              "    <tr>\n",
              "      <th>3</th>\n",
              "      <td>UR</td>\n",
              "      <td>36.7</td>\n",
              "      <td>20.0</td>\n",
              "      <td>59.2</td>\n",
              "      <td>20.8</td>\n",
              "      <td>88.6</td>\n",
              "      <td>12.6</td>\n",
              "      <td>1076.3</td>\n",
              "      <td>1.4</td>\n",
              "      <td>79.7</td>\n",
              "      <td>54291</td>\n",
              "      <td>1.2</td>\n",
              "      <td>15.4</td>\n",
              "      <td>12.4</td>\n",
              "    </tr>\n",
              "    <tr>\n",
              "      <th>4</th>\n",
              "      <td>SZ</td>\n",
              "      <td>160.5</td>\n",
              "      <td>19.3</td>\n",
              "      <td>62.6</td>\n",
              "      <td>18.2</td>\n",
              "      <td>82.1</td>\n",
              "      <td>21.9</td>\n",
              "      <td>908.0</td>\n",
              "      <td>1.5</td>\n",
              "      <td>82.1</td>\n",
              "      <td>62040</td>\n",
              "      <td>1.4</td>\n",
              "      <td>12.3</td>\n",
              "      <td>15.4</td>\n",
              "    </tr>\n",
              "  </tbody>\n",
              "</table>\n",
              "</div>"
            ],
            "text/plain": [
              "  canton  habitants_k  tx_0_19  tx_20_64  tx_65  tx_pop_urbaine  tx_pop_etrangere  superficie_km2  tx_chomage  tx_activite  PIB_hab  tx_aide_sociale  tx_surf_agr_bio  surf_agricole_ha\n",
              "0     ZH       1539.3     19.8      63.2   17.0            99.3              27.1          1728.9         3.1         82.2   104820              3.1             14.6              22.3\n",
              "1     BE       1039.5     19.0      59.9   21.1            74.7              16.6          5959.4         2.5         82.4    79115              4.0             13.4              18.7\n",
              "2     LU        413.1     20.3      61.9   17.8            63.9              18.8          1493.3         2.2         82.9    69256              2.4             10.7              16.8\n",
              "3     UR         36.7     20.0      59.2   20.8            88.6              12.6          1076.3         1.4         79.7    54291              1.2             15.4              12.4\n",
              "4     SZ        160.5     19.3      62.6   18.2            82.1              21.9           908.0         1.5         82.1    62040              1.4             12.3              15.4"
            ]
          },
          "execution_count": null,
          "metadata": {},
          "output_type": "execute_result"
        }
      ],
      "source": [
        "import pandas as pd\n",
        "\n",
        "# Lire le fichier stats_cantons.csv et le charger dans 'cantons_data'\n",
        "cantons_data = pd.read_csv('stats_cantons.csv')\n",
        "\n",
        "#affiche les 5 1er cantons\n",
        "cantons_data.head()"
      ]
    },
    {
      "cell_type": "markdown",
      "id": "a5329aa6-e96d-417f-b592-3155734db7e3",
      "metadata": {},
      "source": [
        "## Manipuler des données\n",
        "\n",
        "Pour rappel, on peut également facilement utiliser des colonnes pour créer de nouvelles colonnes.\n",
        "\n",
        "Par exemple, on peut créer la colonne pour la densité de population au km2 `densite_pop` qui correspond au nombre d'habitants sur la superficie."
      ]
    },
    {
      "cell_type": "code",
      "execution_count": 65,
      "id": "cell-6",
      "metadata": {},
      "outputs": [
        {
          "data": {
            "text/html": [
              "<div>\n",
              "<style scoped>\n",
              "    .dataframe tbody tr th:only-of-type {\n",
              "        vertical-align: middle;\n",
              "    }\n",
              "\n",
              "    .dataframe tbody tr th {\n",
              "        vertical-align: top;\n",
              "    }\n",
              "\n",
              "    .dataframe thead th {\n",
              "        text-align: right;\n",
              "    }\n",
              "</style>\n",
              "<table border=\"1\" class=\"dataframe\">\n",
              "  <thead>\n",
              "    <tr style=\"text-align: right;\">\n",
              "      <th></th>\n",
              "      <th>canton</th>\n",
              "      <th>densite_pop</th>\n",
              "    </tr>\n",
              "  </thead>\n",
              "  <tbody>\n",
              "    <tr>\n",
              "      <th>0</th>\n",
              "      <td>ZH</td>\n",
              "      <td>890.334895</td>\n",
              "    </tr>\n",
              "    <tr>\n",
              "      <th>1</th>\n",
              "      <td>BE</td>\n",
              "      <td>174.430312</td>\n",
              "    </tr>\n",
              "    <tr>\n",
              "      <th>2</th>\n",
              "      <td>LU</td>\n",
              "      <td>276.635639</td>\n",
              "    </tr>\n",
              "    <tr>\n",
              "      <th>3</th>\n",
              "      <td>UR</td>\n",
              "      <td>34.098300</td>\n",
              "    </tr>\n",
              "    <tr>\n",
              "      <th>4</th>\n",
              "      <td>SZ</td>\n",
              "      <td>176.762115</td>\n",
              "    </tr>\n",
              "    <tr>\n",
              "      <th>5</th>\n",
              "      <td>OW</td>\n",
              "      <td>77.252344</td>\n",
              "    </tr>\n",
              "    <tr>\n",
              "      <th>6</th>\n",
              "      <td>NW</td>\n",
              "      <td>156.216020</td>\n",
              "    </tr>\n",
              "    <tr>\n",
              "      <th>7</th>\n",
              "      <td>GL</td>\n",
              "      <td>59.235483</td>\n",
              "    </tr>\n",
              "    <tr>\n",
              "      <th>8</th>\n",
              "      <td>ZG</td>\n",
              "      <td>534.562212</td>\n",
              "    </tr>\n",
              "    <tr>\n",
              "      <th>9</th>\n",
              "      <td>FR</td>\n",
              "      <td>192.533206</td>\n",
              "    </tr>\n",
              "  </tbody>\n",
              "</table>\n",
              "</div>"
            ],
            "text/plain": [
              "  canton  densite_pop\n",
              "0     ZH   890.334895\n",
              "1     BE   174.430312\n",
              "2     LU   276.635639\n",
              "3     UR    34.098300\n",
              "4     SZ   176.762115\n",
              "5     OW    77.252344\n",
              "6     NW   156.216020\n",
              "7     GL    59.235483\n",
              "8     ZG   534.562212\n",
              "9     FR   192.533206"
            ]
          },
          "execution_count": null,
          "metadata": {},
          "output_type": "execute_result"
        }
      ],
      "source": [
        "# création de la colonne contenant la densité\n",
        "# attention ! la popuplation est donnée en milliers d'habitants !\n",
        "cantons_data[\"densite_pop\"] = (cantons_data[\"habitants_k\"] *1000) / cantons_data[\"superficie_km2\"]\n",
        "\n",
        "# on n'affiche que les colonnes 'canton' et 'densite_pop'\n",
        "cantons_data[[\"canton\" ,\"densite_pop\"]].head(10)"
      ]
    },
    {
      "cell_type": "markdown",
      "id": "a042e3bc-dca0-46c6-9339-15bcb7a033ea",
      "metadata": {},
      "source": [
        "On l'a déjà vu, si on s’intéresse à un canton en particulier, on peut également filtrer les données pour ne garder que la lignes correspondant à ce canton.\n",
        "\n",
        "On peut également stocker le résultat du filtre dans une nouvelle variable !\n",
        "\n",
        "Par exemple, pour Neuchâtel, on peut créer un nouveau tableau `neuch_data` qui ne contient que les lignes où la colonne `canton` vaut `NE`."
      ]
    },
    {
      "cell_type": "code",
      "execution_count": 66,
      "id": "cell-8",
      "metadata": {},
      "outputs": [
        {
          "data": {
            "text/html": [
              "<div>\n",
              "<style scoped>\n",
              "    .dataframe tbody tr th:only-of-type {\n",
              "        vertical-align: middle;\n",
              "    }\n",
              "\n",
              "    .dataframe tbody tr th {\n",
              "        vertical-align: top;\n",
              "    }\n",
              "\n",
              "    .dataframe thead th {\n",
              "        text-align: right;\n",
              "    }\n",
              "</style>\n",
              "<table border=\"1\" class=\"dataframe\">\n",
              "  <thead>\n",
              "    <tr style=\"text-align: right;\">\n",
              "      <th></th>\n",
              "      <th>canton</th>\n",
              "      <th>habitants_k</th>\n",
              "      <th>tx_0_19</th>\n",
              "      <th>tx_20_64</th>\n",
              "      <th>tx_65</th>\n",
              "      <th>tx_pop_urbaine</th>\n",
              "      <th>tx_pop_etrangere</th>\n",
              "      <th>superficie_km2</th>\n",
              "      <th>tx_chomage</th>\n",
              "      <th>tx_activite</th>\n",
              "      <th>PIB_hab</th>\n",
              "      <th>tx_aide_sociale</th>\n",
              "      <th>tx_surf_agr_bio</th>\n",
              "      <th>surf_agricole_ha</th>\n",
              "      <th>densite_pop</th>\n",
              "    </tr>\n",
              "  </thead>\n",
              "  <tbody>\n",
              "    <tr>\n",
              "      <th>23</th>\n",
              "      <td>NE</td>\n",
              "      <td>176.5</td>\n",
              "      <td>21.0</td>\n",
              "      <td>59.8</td>\n",
              "      <td>19.3</td>\n",
              "      <td>87.8</td>\n",
              "      <td>25.3</td>\n",
              "      <td>802.3</td>\n",
              "      <td>4.6</td>\n",
              "      <td>76.2</td>\n",
              "      <td>93277</td>\n",
              "      <td>7.0</td>\n",
              "      <td>9.7</td>\n",
              "      <td>40.5</td>\n",
              "      <td>219.992522</td>\n",
              "    </tr>\n",
              "  </tbody>\n",
              "</table>\n",
              "</div>"
            ],
            "text/plain": [
              "   canton  habitants_k  tx_0_19  tx_20_64  tx_65  tx_pop_urbaine  tx_pop_etrangere  superficie_km2  tx_chomage  tx_activite  PIB_hab  tx_aide_sociale  tx_surf_agr_bio  surf_agricole_ha  densite_pop\n",
              "23     NE        176.5     21.0      59.8   19.3            87.8              25.3           802.3         4.6         76.2    93277              7.0              9.7              40.5   219.992522"
            ]
          },
          "execution_count": null,
          "metadata": {},
          "output_type": "execute_result"
        }
      ],
      "source": [
        "neuch_data = cantons_data[cantons_data[\"canton\"] == \"NE\"]\n",
        "\n",
        "neuch_data.head()"
      ]
    },
    {
      "cell_type": "markdown",
      "id": "7cc5e448-a974-4ce1-af32-4e38d90ad085",
      "metadata": {},
      "source": [
        "## Mettre en classe\n",
        "\n",
        "Le module pandas permet de facilement mettre en classe des données numériques :\n",
        "\n",
        "### amplitude fixe - cut()\n",
        "\n",
        "amplitude fixe = (val max - val min)\n",
        "\n",
        "La méthode `cut` permet de créer des classes – selon la méthode de l’amplitude fixe ou des seuils observés – à partir d’une\n",
        "variable numérique. \n",
        "\n",
        "L’argument `bins` (bins = bacs en anglais) peut soit être un chiffre qui indique le nombre de classes, soit une liste qui indique les bornes des\n",
        "classes. \n",
        "\n",
        "Le résultat devra être conservé dans une nouvelle colonne !\n",
        "\n"
      ]
    },
    {
      "cell_type": "code",
      "execution_count": 67,
      "id": "cell-10",
      "metadata": {},
      "outputs": [
        {
          "name": "stdout",
          "output_type": "stream",
          "text": [
            "   canton  densite_pop densite_4_cats\n",
            "0      ZH   890.334895         faible\n",
            "1      BE   174.430312         faible\n",
            "2      LU   276.635639         faible\n",
            "3      UR    34.098300         faible\n",
            "4      SZ   176.762115         faible\n",
            "5      OW    77.252344         faible\n",
            "6      NW   156.216020         faible\n",
            "7      GL    59.235483         faible\n",
            "8      ZG   534.562212         faible\n",
            "9      FR   192.533206         faible\n",
            "10     SO   348.178138         faible\n",
            "11     BS  5291.891892    très élevée\n",
            "12     BL   559.204172         faible\n",
            "13     SH   275.804290         faible\n",
            "14     AR   228.077398         faible\n",
            "15     AI    93.387471         faible\n",
            "16     SG   251.489634         faible\n",
            "17     GR    28.008445         faible\n",
            "18     AG   488.461538         faible\n",
            "19     TG   281.896117         faible\n",
            "20     TI   124.986666         faible\n",
            "21     VD   250.638192         faible\n",
            "22     VS    66.126933         faible\n",
            "23     NE   219.992522         faible\n",
            "24     GE  1785.688983        moyenne\n",
            "25     JU    87.765323         faible\n"
          ]
        }
      ],
      "source": [
        "# on crée une colonne contenant les 4 \"bacs\" \n",
        "cantons_data[\"densite_4_cats\"] = pd.cut(cantons_data[\"densite_pop\"], bins=4, labels=[\"faible\", \"moyenne\", \"élevée\", \"très élevée\"])\n",
        "\n",
        "# on affiche tout\n",
        "print(cantons_data[[\"canton\" ,\"densite_pop\", \"densite_4_cats\"]])"
      ]
    },
    {
      "cell_type": "markdown",
      "id": "8c39d2ef",
      "metadata": {},
      "source": [
        "On peut aussi définir nous-même les seuils :"
      ]
    },
    {
      "cell_type": "code",
      "execution_count": 68,
      "id": "cell-11",
      "metadata": {},
      "outputs": [
        {
          "name": "stdout",
          "output_type": "stream",
          "text": [
            "   canton  densite_pop densite_4_cats\n",
            "0      ZH   890.334895    (300, 1000]\n",
            "1      BE   174.430312     (100, 300]\n",
            "2      LU   276.635639     (100, 300]\n",
            "3      UR    34.098300       (0, 100]\n",
            "4      SZ   176.762115     (100, 300]\n",
            "5      OW    77.252344       (0, 100]\n",
            "6      NW   156.216020     (100, 300]\n",
            "7      GL    59.235483       (0, 100]\n",
            "8      ZG   534.562212    (300, 1000]\n",
            "9      FR   192.533206     (100, 300]\n",
            "10     SO   348.178138    (300, 1000]\n",
            "11     BS  5291.891892  (5000, 50000]\n",
            "12     BL   559.204172    (300, 1000]\n",
            "13     SH   275.804290     (100, 300]\n",
            "14     AR   228.077398     (100, 300]\n",
            "15     AI    93.387471       (0, 100]\n",
            "16     SG   251.489634     (100, 300]\n",
            "17     GR    28.008445       (0, 100]\n",
            "18     AG   488.461538    (300, 1000]\n",
            "19     TG   281.896117     (100, 300]\n",
            "20     TI   124.986666     (100, 300]\n",
            "21     VD   250.638192     (100, 300]\n",
            "22     VS    66.126933       (0, 100]\n",
            "23     NE   219.992522     (100, 300]\n",
            "24     GE  1785.688983   (1000, 5000]\n",
            "25     JU    87.765323       (0, 100]\n"
          ]
        }
      ],
      "source": [
        "# seuils définis manuellement \n",
        "cantons_data[\"densite_4_cats\"] = pd.cut(cantons_data[\"densite_pop\"], bins=[0,100,300,1000,5000,50000])\n",
        "\n",
        "# on affiche tout\n",
        "print(cantons_data[[\"canton\" ,\"densite_pop\", \"densite_4_cats\"]])"
      ]
    },
    {
      "cell_type": "markdown",
      "id": "9dea708a",
      "metadata": {},
      "source": [
        "### effectifs fixes - qcut()\n",
        "\n",
        "effectifs fixes = nb de val / nb de classe\n",
        "\n",
        "La méthode `qcut` permet de créer des classe – selon la méthode des effectifs fixes – à partir d’une variable numérique en précisant le\n",
        "nombre de classes. \n",
        "\n",
        "L’argument `q` permet de préciser le nombre de classes.\n"
      ]
    },
    {
      "cell_type": "code",
      "execution_count": 69,
      "id": "cell-12",
      "metadata": {},
      "outputs": [
        {
          "name": "stdout",
          "output_type": "stream",
          "text": [
            "   canton  densite_pop    densite_q\n",
            "0      ZH   890.334895  très élevée\n",
            "1      BE   174.430312      moyenne\n",
            "2      LU   276.635639       élevée\n",
            "3      UR    34.098300       faible\n",
            "4      SZ   176.762115      moyenne\n",
            "5      OW    77.252344       faible\n",
            "6      NW   156.216020      moyenne\n",
            "7      GL    59.235483       faible\n",
            "8      ZG   534.562212  très élevée\n",
            "9      FR   192.533206      moyenne\n",
            "10     SO   348.178138  très élevée\n",
            "11     BS  5291.891892  très élevée\n",
            "12     BL   559.204172  très élevée\n",
            "13     SH   275.804290       élevée\n",
            "14     AR   228.077398       élevée\n",
            "15     AI    93.387471       faible\n",
            "16     SG   251.489634       élevée\n",
            "17     GR    28.008445       faible\n",
            "18     AG   488.461538  très élevée\n",
            "19     TG   281.896117       élevée\n",
            "20     TI   124.986666      moyenne\n",
            "21     VD   250.638192       élevée\n",
            "22     VS    66.126933       faible\n",
            "23     NE   219.992522      moyenne\n",
            "24     GE  1785.688983  très élevée\n",
            "25     JU    87.765323       faible\n"
          ]
        }
      ],
      "source": [
        "# on découpe les données en 4 quantiles\n",
        "cantons_data[\"densite_q\"] = pd.qcut(cantons_data[\"densite_pop\"], 4, labels=[\"faible\", \"moyenne\", \"élevée\", \"très élevée\"])\n",
        "\n",
        "# on affiche tout\n",
        "print(cantons_data[[\"canton\" ,\"densite_pop\", \"densite_q\"]])"
      ]
    },
    {
      "cell_type": "markdown",
      "id": "b3b1850c",
      "metadata": {},
      "source": [
        "L’argument `labels` permet de préciser les étiquettes des classes :"
      ]
    },
    {
      "cell_type": "code",
      "execution_count": 70,
      "id": "f912e124",
      "metadata": {},
      "outputs": [
        {
          "name": "stdout",
          "output_type": "stream",
          "text": [
            "   canton  densite_pop densite_4_cats\n",
            "0      ZH   890.334895         faible\n",
            "1      BE   174.430312         faible\n",
            "2      LU   276.635639         faible\n",
            "3      UR    34.098300         faible\n",
            "4      SZ   176.762115         faible\n",
            "5      OW    77.252344         faible\n",
            "6      NW   156.216020         faible\n",
            "7      GL    59.235483         faible\n",
            "8      ZG   534.562212         faible\n",
            "9      FR   192.533206         faible\n",
            "10     SO   348.178138         faible\n",
            "11     BS  5291.891892    très élevée\n",
            "12     BL   559.204172         faible\n",
            "13     SH   275.804290         faible\n",
            "14     AR   228.077398         faible\n",
            "15     AI    93.387471         faible\n",
            "16     SG   251.489634         faible\n",
            "17     GR    28.008445         faible\n",
            "18     AG   488.461538         faible\n",
            "19     TG   281.896117         faible\n",
            "20     TI   124.986666         faible\n",
            "21     VD   250.638192         faible\n",
            "22     VS    66.126933         faible\n",
            "23     NE   219.992522         faible\n",
            "24     GE  1785.688983        moyenne\n",
            "25     JU    87.765323         faible\n"
          ]
        }
      ],
      "source": [
        "cantons_data[\"densite_4_cats\"] = pd.cut(cantons_data[\"densite_pop\"], bins=4, labels=[\"faible\", \"moyenne\", \"élevée\", \"très élevée\"])\n",
        "print(cantons_data[[\"canton\" ,\"densite_pop\", \"densite_4_cats\"]])"
      ]
    },
    {
      "cell_type": "code",
      "execution_count": 71,
      "id": "54dfb932",
      "metadata": {},
      "outputs": [
        {
          "name": "stdout",
          "output_type": "stream",
          "text": [
            "   canton  densite_pop    densite_q\n",
            "0      ZH   890.334895  très élevée\n",
            "1      BE   174.430312      moyenne\n",
            "2      LU   276.635639       élevée\n",
            "3      UR    34.098300       faible\n",
            "4      SZ   176.762115      moyenne\n",
            "5      OW    77.252344       faible\n",
            "6      NW   156.216020      moyenne\n",
            "7      GL    59.235483       faible\n",
            "8      ZG   534.562212  très élevée\n",
            "9      FR   192.533206      moyenne\n",
            "10     SO   348.178138  très élevée\n",
            "11     BS  5291.891892  très élevée\n",
            "12     BL   559.204172  très élevée\n",
            "13     SH   275.804290       élevée\n",
            "14     AR   228.077398       élevée\n",
            "15     AI    93.387471       faible\n",
            "16     SG   251.489634       élevée\n",
            "17     GR    28.008445       faible\n",
            "18     AG   488.461538  très élevée\n",
            "19     TG   281.896117       élevée\n",
            "20     TI   124.986666      moyenne\n",
            "21     VD   250.638192       élevée\n",
            "22     VS    66.126933       faible\n",
            "23     NE   219.992522      moyenne\n",
            "24     GE  1785.688983  très élevée\n",
            "25     JU    87.765323       faible\n"
          ]
        }
      ],
      "source": [
        "cantons_data[\"densite_q\"] = pd.qcut(cantons_data[\"densite_pop\"], 4, labels=[\"faible\", \"moyenne\", \"élevée\", \"très élevée\"])\n",
        "print(cantons_data[[\"canton\" ,\"densite_pop\", \"densite_q\"]])"
      ]
    },
    {
      "cell_type": "markdown",
      "id": "b74be0a4-1ba1-49a1-8638-4a6821c3fc72",
      "metadata": {},
      "source": [
        "> **Exercice 1**\n",
        ">\n",
        "> -   À partir du tableau `cantons_data`, créez des classes à partir des colonnes suivantes :\n",
        ">     -   tx_chomage \n",
        ">     -   PIB_hab \n",
        ">     -   PIB (colonne à créer !)\n",
        "> - Faites une mise en classe par quartiles (faible, moyen, élevé, très élevé) pour chacune de ces classes.\n",
        "> -   Affichez le tableau final\n"
      ]
    },
    {
      "cell_type": "code",
      "execution_count": 72,
      "id": "526db154",
      "metadata": {},
      "outputs": [],
      "source": []
    },
    {
      "cell_type": "markdown",
      "id": "49881b74",
      "metadata": {},
      "source": [
        "> **Exercice 2**\n",
        ">\n",
        "> -   Jouez avec le code ci-dessous pour afficher les différentes classes créées en 1\n"
      ]
    },
    {
      "cell_type": "code",
      "execution_count": 72,
      "id": "553a6731",
      "metadata": {},
      "outputs": [
        {
          "data": {
            "text/plain": [
              "<Axes: >"
            ]
          },
          "execution_count": null,
          "metadata": {},
          "output_type": "execute_result"
        },
        {
          "data": {
            "image/png": "[encoded data removed]",
            "text/plain": [
              "<Figure size 640x480 with 2 Axes>"
            ]
          },
          "metadata": {},
          "output_type": "display_data"
        }
      ],
      "source": [
        "# charge la bibliothèque permettant de faire des cartes\n",
        "import geopandas\n",
        "\n",
        "# on crée une colonne contenant les clés pour faire une jointure avec la carte\n",
        "cantons_data[\"CodeCH\"] = \"CH\" + cantons_data[\"canton\"]\n",
        "\n",
        "# chargement de la carte\n",
        "carte_suisse = geopandas.read_file(\"ch.shp\")\n",
        "\n",
        "# jointure carte / données\n",
        "carte_suisse_pop = carte_suisse.merge(\n",
        "    cantons_data, how=\"left\", left_on=\"id\", right_on=\"CodeCH\"\n",
        ")\n",
        "\n",
        "# affichage\n",
        "carte_suisse_pop.plot(\n",
        "    column=\"densite_pop\",\n",
        "    legend=True,\n",
        "    cmap=\"OrRd\",\n",
        "    missing_kwds={\"color\": \"grey\", \"label\": \"No Data\"}\n",
        ")"
      ]
    }
  ],
  "metadata": {
    "kernelspec": {
      "display_name": "Python 3",
      "language": "python",
      "name": "python3"
    },
    "language_info": {
      "codemirror_mode": {
        "name": "ipython",
        "version": "3"
      },
      "file_extension": ".py",
      "mimetype": "text/x-python",
      "name": "python",
      "nbconvert_exporter": "python",
      "pygments_lexer": "ipython3",
      "version": "3.12.2"
    },
    "orig_nbformat": "4"
  },
  "nbformat": 4,
  "nbformat_minor": 5
}
