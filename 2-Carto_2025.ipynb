{
 "cells": [
  {
   "cell_type": "markdown",
   "id": "76268e64-3556-4ee3-a3e9-7885d4f2c0e8",
   "metadata": {
    "editable": false,
    "slideshow": {
     "slide_type": ""
    },
    "tags": []
   },
   "source": [
    "# Cartographie\n",
    "\n",
    "> **Objectifs**\n",
    ">\n",
    "> -   Mixer données et carte !\n",
    "\n",
    "\n",
    "\n",
    "## GeoPandas\n",
    "\n",
    "Pour réaliser des cartes avec Python, nous allons utiliser une bibliothèque appelée *GeoPandas*. \\\n",
    "Cette bibliothèque permet, via une jointure, de représenter les données sur une carte donnée. \\\n",
    "Pour pouvoir faire la jointure nous devons d'abord nous assurer que nous avons une clé. \\\n",
    "Ensuite, dans la fonction `.plot()`, on décide ce que l'on veut afficher et comment. \n",
    "\n",
    "\n",
    "Pour votre projet, vous devrer trouvez les fonds de cartes avant de pouvoir les utiliser ! \n",
    "\n",
    "\n",
    "Dans l'exemple, nous allons afficher la densité de population :"
   ]
  },
  {
   "cell_type": "code",
   "execution_count": null,
   "id": "ddc5b96c-4847-4d55-872e-8c2a53494eef",
   "metadata": {
    "editable": true,
    "slideshow": {
     "slide_type": ""
    },
    "tags": []
   },
   "outputs": [],
   "source": [
    "import pandas as pd\n",
    "\n",
    "# charge la bibliothèque permettant de faire des cartes\n",
    "import geopandas\n",
    "\n",
    "# Lire le fichier stats_cantons.csv et le charger dans 'cantons_data'\n",
    "cantons_data = pd.read_csv('stats_cantons.csv')\n",
    "cantons_data[\"densite_pop\"] = (cantons_data[\"habitants_k\"] *1000) / cantons_data[\"superficie_km2\"]\n",
    "\n",
    "# on crée une colonne contenant les clés pour faire une jointure avec la carte\n",
    "cantons_data[\"CodeCH\"] = \"CH\" + cantons_data[\"canton\"]\n",
    "\n",
    "# chargement de la carte\n",
    "carte_suisse = geopandas.read_file(\"ch.shp\")\n",
    "\n",
    "# jointure carte / données\n",
    "carte_suisse_pop = carte_suisse.merge(\n",
    "    cantons_data, how=\"left\", left_on=\"id\", right_on=\"CodeCH\"\n",
    ")\n",
    "\n",
    "# affichage\n",
    "carte_suisse_pop.plot(\n",
    "    column=\"densite_pop\", # ici on décide ce qu'on affiche\n",
    "    legend=True,\n",
    "    cmap=\"OrRd\",\n",
    "    missing_kwds={\"color\": \"grey\", \"label\": \"No Data\"}\n",
    ")"
   ]
  },
  {
   "cell_type": "markdown",
   "id": "0c76f66d-9b3f-407b-be36-d773ace74246",
   "metadata": {
    "editable": false,
    "slideshow": {
     "slide_type": ""
    },
    "tags": []
   },
   "source": [
    "> **Exercice 1**\n",
    ">\n",
    "> -   Affichez le PIB par habitant plus que la densité"
   ]
  },
  {
   "cell_type": "code",
   "execution_count": null,
   "id": "8dfd1cb4-b4d0-4c9a-9d5a-71cda6fa1d94",
   "metadata": {
    "editable": true,
    "slideshow": {
     "slide_type": ""
    },
    "tags": []
   },
   "outputs": [],
   "source": []
  },
  {
   "cell_type": "markdown",
   "id": "bb4ee91d-44a5-41d2-9e8c-cbdc08100f75",
   "metadata": {
    "editable": false,
    "slideshow": {
     "slide_type": ""
    },
    "tags": []
   },
   "source": [
    "> **Exercice 2**\n",
    ">\n",
    "> -   Utilisez vos connaissance acquises au cours précédent pour faire des mises en classe du PIB par habitant\n",
    "> -   Comparez amplitude fixe vs effectifs fixes"
   ]
  },
  {
   "cell_type": "code",
   "execution_count": null,
   "id": "251dfc2d-e442-4739-bb58-748bee52f016",
   "metadata": {
    "editable": true,
    "slideshow": {
     "slide_type": ""
    },
    "tags": []
   },
   "outputs": [],
   "source": []
  }
 ],
 "metadata": {
  "kernelspec": {
   "display_name": "Python 3 (ipykernel)",
   "language": "python",
   "name": "python3"
  },
  "language_info": {
   "codemirror_mode": {
    "name": "ipython",
    "version": 3
   },
   "file_extension": ".py",
   "mimetype": "text/x-python",
   "name": "python",
   "nbconvert_exporter": "python",
   "pygments_lexer": "ipython3",
   "version": "3.12.6"
  }
 },
 "nbformat": 4,
 "nbformat_minor": 5
}
